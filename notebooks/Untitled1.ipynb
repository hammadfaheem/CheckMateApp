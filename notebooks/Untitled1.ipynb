{
 "cells": [
  {
   "cell_type": "code",
   "execution_count": 4,
   "id": "17546760-1dcb-4901-8870-ecfebbbc4410",
   "metadata": {},
   "outputs": [],
   "source": [
    "students_answers = {\n",
    "    \"Alice Johnson\": \"\"\"1. The OSI model is a conceptual framework that standardizes network communication into seven layers: Physical, Data Link, Network, Transport, Session, Presentation, and Application.\n",
    "2. A router connects different networks and directs data between them, while a switch connects devices within the same network and manages data traffic using MAC addresses.\n",
    "3. Firewalls protect networks by filtering incoming and outgoing traffic based on security rules, preventing unauthorized access and cyber threats.\"\"\",\n",
    "\n",
    "    \"Bob Smith\": \"\"\"1. The OSI model consists of seven layers that help standardize network communication: Application, Presentation, Session, Transport, Network, Data Link, and Physical.\n",
    "2. A switch operates at Layer 2 and forwards data based on MAC addresses, whereas a router operates at Layer 3 and directs data between networks using IP addresses.\n",
    "3. Firewalls enhance security by monitoring and controlling network traffic based on predefined security rules, blocking potential cyber threats.\"\"\",\n",
    "\n",
    "    \"Charlie Brown\": \"\"\"1. The OSI model divides networking into seven layers to standardize communication: Physical, Data Link, Network, Transport, Session, Presentation, and Application.\n",
    "2. A switch is used to connect multiple devices within a local network and works with MAC addresses, whereas a router connects different networks and directs data based on IP addresses.\n",
    "3. Firewalls prevent unauthorized access by filtering traffic and blocking harmful data packets based on security policies.\"\"\",\n",
    "\n",
    "    \"David Williams\": \"\"\"1. The OSI model is a seven-layer framework that describes how data flows in a network: Application, Presentation, Session, Transport, Network, Data Link, and Physical.\n",
    "2. A router enables communication between different networks, while a switch connects devices within the same network using MAC address forwarding.\n",
    "3. Firewalls secure networks by analyzing incoming and outgoing traffic, allowing or blocking connections based on security policies.\"\"\",\n",
    "\n",
    "    \"Emily Davis\": \"\"\"1. The OSI model consists of seven layers that define network communication, from the physical connection to the application level.\n",
    "2. A router determines the best path for data between networks using IP addresses, whereas a switch forwards data within the same network based on MAC addresses.\n",
    "3. Firewalls act as a security barrier, filtering traffic and preventing unauthorized access to protect network resources.\"\"\",\n",
    "\n",
    "    \"Franklin Harris\": \"\"\"1. The OSI model is a conceptual framework that helps standardize network communication across seven layers: Physical, Data Link, Network, Transport, Session, Presentation, and Application.\n",
    "2. Routers manage data transfer between networks using IP addresses, while switches operate within a local network using MAC addresses for communication.\n",
    "3. Firewalls protect networks by filtering packets, blocking harmful traffic, and enforcing security policies.\"\"\",\n",
    "\n",
    "    \"Grace Martin\": \"\"\"1. The OSI model breaks networking into seven layers: Application, Presentation, Session, Transport, Network, Data Link, and Physical, ensuring standardized communication.\n",
    "2. A router connects different networks and determines optimal paths for data, while a switch connects devices within a local network and directs traffic based on MAC addresses.\n",
    "3. Firewalls enhance security by inspecting, filtering, and controlling network traffic to prevent unauthorized access.\"\"\",\n",
    "\n",
    "    \"Henry Thompson\": \"\"\"1. The OSI model defines how data flows across a network using seven layers, including Application, Presentation, Session, Transport, Network, Data Link, and Physical.\n",
    "2. A switch functions at Layer 2, forwarding data based on MAC addresses, while a router operates at Layer 3, directing data using IP addresses.\n",
    "3. Firewalls monitor, filter, and restrict network traffic to safeguard systems from cyber threats and unauthorized access.\"\"\",\n",
    "\n",
    "    \"Isabella White\": \"\"\"1. The OSI model provides a structured approach to network communication, dividing it into seven layers for standardization and troubleshooting.\n",
    "2. A switch connects devices within a LAN using MAC addresses, whereas a router connects different networks and makes routing decisions based on IP addresses.\n",
    "3. Firewalls play a crucial role in cybersecurity by filtering traffic, blocking malicious data, and enforcing security policies.\"\"\",\n",
    "\n",
    "    \"Jack Wilson\": \"\"\"1. The OSI model consists of seven layers that help networks communicate efficiently: Physical, Data Link, Network, Transport, Session, Presentation, and Application.\n",
    "2. Routers and switches are both networking devices; routers connect different networks using IP addresses, while switches manage data flow within a single network using MAC addresses.\n",
    "3. Firewalls protect a network by filtering packets, preventing unauthorized access, and blocking harmful traffic based on predefined security rules.\"\"\"\n",
    "}\n"
   ]
  },
  {
   "cell_type": "code",
   "execution_count": 2,
   "id": "7e460a16-6a21-438a-a1f4-39264c700ab8",
   "metadata": {},
   "outputs": [],
   "source": [
    "from difflib import SequenceMatcher"
   ]
  },
  {
   "cell_type": "code",
   "execution_count": 3,
   "id": "2950c9fb-a26d-44a5-9325-35cca7d2ffc6",
   "metadata": {},
   "outputs": [
    {
     "data": {
      "text/plain": [
       "0.9235474006116208"
      ]
     },
     "execution_count": 3,
     "metadata": {},
     "output_type": "execute_result"
    }
   ],
   "source": [
    "SequenceMatcher(\n",
    "    None, \n",
    "    answers_list[0],\n",
    "    answers_list[1]\n",
    ").quick_ratio()"
   ]
  },
  {
   "cell_type": "code",
   "execution_count": 5,
   "id": "69b2b4d6-3896-45bc-9c07-a014a4bd76d9",
   "metadata": {},
   "outputs": [],
   "source": [
    "def get_file_combinations(file_list):\n",
    "    \"\"\"Generate unique file combinations for comparison.\"\"\"\n",
    "    return list(itertools.combinations(file_list, 2))\n"
   ]
  },
  {
   "cell_type": "code",
   "execution_count": 8,
   "id": "346ecbef-ceb0-4d29-84c1-8ab55fd1539e",
   "metadata": {},
   "outputs": [],
   "source": [
    "def find_similarity_search(students_answers):\n",
    "    similarity_data = []\n",
    "    for name1 in students_answers.keys():\n",
    "        for name2 in students_answers.keys():\n",
    "            if name1 != name2:\n",
    "                similarity = SequenceMatcher(\n",
    "                    None, \n",
    "                    students_answers[name1],\n",
    "                    students_answers[name2]\n",
    "                ).quick_ratio()\n",
    "                rec = [name1, name2, similarity]\n",
    "                similarity_data.append(rec)\n",
    "    similarity_df = pd.DataFrame(\n",
    "        similarity_data,\n",
    "        columns = [\"Student1\", \"Student2\", \"Similarity\"]\n",
    "    )\n",
    "    return similarity_df\n",
    "    \n",
    "        \n",
    "            \n",
    "    \n",
    "    "
   ]
  },
  {
   "cell_type": "code",
   "execution_count": null,
   "id": "edd82900-0240-42e7-b5f7-2e3402a3897c",
   "metadata": {},
   "outputs": [],
   "source": []
  },
  {
   "cell_type": "code",
   "execution_count": 11,
   "id": "644435db-a337-488d-8e04-6624cfb5a407",
   "metadata": {},
   "outputs": [],
   "source": [
    "import pandas as pd"
   ]
  },
  {
   "cell_type": "code",
   "execution_count": 13,
   "id": "b3c7e8df-312e-46d0-a698-da782afabd77",
   "metadata": {},
   "outputs": [],
   "source": [
    "similarity_df = pd.DataFrame(\n",
    "    similarity_data,\n",
    "    columns = [\"Student1\", \"Student2\", \"Similarity\"]\n",
    ")"
   ]
  },
  {
   "cell_type": "code",
   "execution_count": 16,
   "id": "b1e32e7e-dd8e-477e-a0e6-fd6df748245a",
   "metadata": {},
   "outputs": [
    {
     "data": {
      "text/html": [
       "<div>\n",
       "<style scoped>\n",
       "    .dataframe tbody tr th:only-of-type {\n",
       "        vertical-align: middle;\n",
       "    }\n",
       "\n",
       "    .dataframe tbody tr th {\n",
       "        vertical-align: top;\n",
       "    }\n",
       "\n",
       "    .dataframe thead th {\n",
       "        text-align: right;\n",
       "    }\n",
       "</style>\n",
       "<table border=\"1\" class=\"dataframe\">\n",
       "  <thead>\n",
       "    <tr style=\"text-align: right;\">\n",
       "      <th></th>\n",
       "      <th>Student1</th>\n",
       "      <th>Student2</th>\n",
       "      <th>Similarity</th>\n",
       "    </tr>\n",
       "  </thead>\n",
       "  <tbody>\n",
       "    <tr>\n",
       "      <th>10</th>\n",
       "      <td>Bob Smith</td>\n",
       "      <td>Charlie Brown</td>\n",
       "      <td>0.934874</td>\n",
       "    </tr>\n",
       "    <tr>\n",
       "      <th>15</th>\n",
       "      <td>Bob Smith</td>\n",
       "      <td>Henry Thompson</td>\n",
       "      <td>0.927790</td>\n",
       "    </tr>\n",
       "    <tr>\n",
       "      <th>9</th>\n",
       "      <td>Bob Smith</td>\n",
       "      <td>Alice Johnson</td>\n",
       "      <td>0.923547</td>\n",
       "    </tr>\n",
       "  </tbody>\n",
       "</table>\n",
       "</div>"
      ],
      "text/plain": [
       "     Student1        Student2  Similarity\n",
       "10  Bob Smith   Charlie Brown    0.934874\n",
       "15  Bob Smith  Henry Thompson    0.927790\n",
       "9   Bob Smith   Alice Johnson    0.923547"
      ]
     },
     "execution_count": 16,
     "metadata": {},
     "output_type": "execute_result"
    }
   ],
   "source": [
    "top_k = 3\n",
    "similarity_df[similarity_df[\"Student1\"] == \"Bob Smith\"].sort_values(\"Similarity\", ascending=False).iloc[:top_k]"
   ]
  },
  {
   "cell_type": "code",
   "execution_count": null,
   "id": "cda52715-4e89-4df5-852e-d23378d693f2",
   "metadata": {},
   "outputs": [],
   "source": []
  }
 ],
 "metadata": {
  "kernelspec": {
   "display_name": "Python 3 (ipykernel)",
   "language": "python",
   "name": "python3"
  },
  "language_info": {
   "codemirror_mode": {
    "name": "ipython",
    "version": 3
   },
   "file_extension": ".py",
   "mimetype": "text/x-python",
   "name": "python",
   "nbconvert_exporter": "python",
   "pygments_lexer": "ipython3",
   "version": "3.12.4"
  }
 },
 "nbformat": 4,
 "nbformat_minor": 5
}
