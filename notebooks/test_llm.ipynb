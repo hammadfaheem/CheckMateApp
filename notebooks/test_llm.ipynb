{
 "cells": [
  {
   "cell_type": "code",
   "execution_count": 1,
   "id": "2ef71fc7",
   "metadata": {},
   "outputs": [
    {
     "data": {
      "text/plain": [
       "True"
      ]
     },
     "execution_count": 1,
     "metadata": {},
     "output_type": "execute_result"
    }
   ],
   "source": [
    "from openai import OpenAI\n",
    "import os\n",
    "import json\n",
    "# from sklearn.metrics.pairwise import cosine_similarity\n",
    "from dotenv import load_dotenv\n",
    "load_dotenv()"
   ]
  },
  {
   "cell_type": "code",
   "execution_count": null,
   "id": "da91c7ee",
   "metadata": {},
   "outputs": [],
   "source": []
  },
  {
   "cell_type": "code",
   "execution_count": 2,
   "id": "2ec6b734",
   "metadata": {},
   "outputs": [],
   "source": [
    "def get_chatbot_response(client,model_name,messages,temperature=0):\n",
    "    input_messages = []\n",
    "    for message in messages:\n",
    "        input_messages.append({\"role\": message[\"role\"], \"content\": message[\"content\"] })\n",
    "\n",
    "    response = client.chat.completions.create(\n",
    "        model=model_name,\n",
    "        messages=input_messages,\n",
    "        temperature=temperature,\n",
    "        top_p=0.8,\n",
    "        max_tokens=2000,\n",
    "    ).choices[0].message.content\n",
    "    \n",
    "    return response"
   ]
  },
  {
   "cell_type": "code",
   "execution_count": 3,
   "id": "e2b70d15",
   "metadata": {},
   "outputs": [
    {
     "data": {
      "text/plain": [
       "'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'"
      ]
     },
     "execution_count": 3,
     "metadata": {},
     "output_type": "execute_result"
    }
   ],
   "source": [
    "os.getenv(\"RUNPOD_TOKEN\")"
   ]
  },
  {
   "cell_type": "code",
   "execution_count": 4,
   "id": "4081d53b",
   "metadata": {},
   "outputs": [],
   "source": [
    "client = OpenAI(\n",
    "            api_key=os.getenv(\"RUNPOD_TOKEN\"),\n",
    "            base_url=os.getenv(\"RUNPOD_CHATBOT_URL\"),\n",
    "        )\n",
    "model_name = os.getenv(\"MODEL_NAME\")"
   ]
  },
  {
   "cell_type": "code",
   "execution_count": 5,
   "id": "d41ae661",
   "metadata": {},
   "outputs": [
    {
     "data": {
      "text/plain": [
       "'llama-3.3-70b-specdec'"
      ]
     },
     "execution_count": 5,
     "metadata": {},
     "output_type": "execute_result"
    }
   ],
   "source": [
    "model_name"
   ]
  },
  {
   "cell_type": "markdown",
   "id": "169aee36",
   "metadata": {},
   "source": [
    "# Get LLM response"
   ]
  },
  {
   "cell_type": "code",
   "execution_count": 6,
   "id": "3ba7753a",
   "metadata": {},
   "outputs": [
    {
     "name": "stdout",
     "output_type": "stream",
     "text": [
      "The capital of Italy is Rome.\n"
     ]
    }
   ],
   "source": [
    "messages = [{'role':'user','content':\"What's the capital of Italy?\"}]\n",
    "response = get_chatbot_response(client,model_name,messages)\n",
    "print(response)"
   ]
  },
  {
   "cell_type": "code",
   "execution_count": 7,
   "id": "4ac71a0e",
   "metadata": {},
   "outputs": [],
   "source": [
    "# messages = [{'role':'user','content':\"write a snnake game\"}]\n",
    "# response = get_chatbot_response(client,model_name,messages)\n",
    "# print(response)"
   ]
  },
  {
   "cell_type": "markdown",
   "id": "d180eeb4",
   "metadata": {},
   "source": [
    "# Prompt engineering"
   ]
  },
  {
   "cell_type": "markdown",
   "id": "52a1db3e",
   "metadata": {},
   "source": [
    "## Structred output"
   ]
  },
  {
   "cell_type": "code",
   "execution_count": 40,
   "metadata": {},
   "outputs": [],
   "source": [
    "# student_raw_text =\"\"\"The OSI model in networking is a conceptual framework used to understand and standardize the functions of a communication system. It consists of seven layers: Physical, Data Link, Network, Transport, Session, Presentation, and Application.\n",
    "# A router is a device that forwards data packets between computer networks, while a switch operates at a local level to connect devices within a single network.\n",
    "# Firewalls are crucial for network security because they monitor and control incoming and outgoing network traffic based on security rules, helping prevent unauthorized access and attacks.\"\"\"\n",
    "\n",
    "\n",
    "# teacher_questions = \"\"\"1. What is the OSI model in networking?\n",
    "# 2. What are the differences between a router and a switch?\n",
    "# 3. Explain the importance of firewalls in network security.\"\"\"\n",
    "\n",
    "# teacher_raw_text = \"\"\"\n",
    "# 1. The OSI (Open Systems Interconnection) model is a conceptual framework used to standardize network communication. It consists of seven layers: \n",
    "#    - **Physical Layer**: Handles the physical connection between devices.  \n",
    "#    - **Data Link Layer**: Manages node-to-node communication and error detection.  \n",
    "#    - **Network Layer**: Handles routing and forwarding of data packets.  \n",
    "#    - **Transport Layer**: Ensures reliable transmission of data between systems.  \n",
    "#    - **Session Layer**: Manages sessions and connections between applications.  \n",
    "#    - **Presentation Layer**: Translates data formats and encryption.  \n",
    "#    - **Application Layer**: Provides network services to end-users.\n",
    "\n",
    "# 2. A **router** and a **switch** serve different functions in networking:\n",
    "#    - A **router** operates at the **network layer (Layer 3)** and is responsible for forwarding data between different networks using IP addresses.  \n",
    "#    - A **switch** operates at the **data link layer (Layer 2)** and is used within a local network (LAN) to connect devices efficiently using MAC addresses.  \n",
    "#    - Routers enable communication between networks (e.g., connecting to the internet), while switches improve network efficiency within a single network.\n",
    "\n",
    "# 3. Firewalls play a critical role in **network security** by:\n",
    "#    - Monitoring and controlling **incoming and outgoing traffic** based on predefined security rules.  \n",
    "#    - Preventing **unauthorized access** by blocking malicious traffic.  \n",
    "#    - Acting as a barrier between a **trusted internal network** and **untrusted external sources**, reducing the risk of cyber threats.  \n",
    "#    - Implementing security policies such as **packet filtering, intrusion detection, and deep packet inspection** to safeguard sensitive data.\n",
    "# \"\"\"\n",
    "\n",
    "\n",
    "\n",
    "student_raw_text = \"\"\"Alice has 12 apples, and she gives 4 apples to her friend Bob. Then, she buys 6 more apples from a store. After that, she equally divides all her apples among 3 of her friends.\n",
    "\n",
    "A train travels at a speed of 60 km/h. If it travels for 3 hours without stopping, how far does it go?\"\"\"\n",
    "\n",
    "teacher_questions = \"\"\"1. How many apples does Alice have after giving some to Bob and buying more?\n",
    "2. How many apples does each friend get after Alice divides them equally?\n",
    "3. How far does the train travel in 3 hours if it moves at 60 km/h?\n",
    "4. How many oranges does Charlie have left after eating some and receiving more from a friend?\n",
    "\"\"\"\n",
    "teacher_raw_text = \"\"\" \n",
    "1. Alice starts with 12 apples. She gives 4 to Bob, leaving her with:\n",
    "   12 - 4 = 8 apples.\n",
    "   Then, she buys 6 more apples:\n",
    "   8 + 6 = 14 apples.\n",
    "   So, Alice has **14 apples** after the transactions.\n",
    "\n",
    "2. Alice equally divides the 14 apples among 3 friends:\n",
    "   14 ÷ 3 ≈ 4.67 apples per friend.\n",
    "   Since apples are whole objects, she can distribute **4 apples per friend** and have **2 apples left**.\n",
    "\n",
    "3. The train travels at a speed of **60 km/h** for **3 hours**. The total distance covered is:\n",
    "   Distance = Speed × Time\n",
    "   Distance = 60 km/h × 3 h = **180 km**.\n",
    "   So, the train travels **180 km** in 3 hours.\n",
    "\n",
    "4. Charlie starts with **10 oranges**. He eats **3 oranges**, leaving him with:  \n",
    "   10 - 3 = **7 oranges**.  \n",
    "   Then, his friend gives him **5 more oranges**:  \n",
    "   7 + 5 = **12 oranges**.  \n",
    "   So, Charlie has **12 oranges** after the transactions.\n",
    "\"\"\"\n"
   ]
  },
  {
   "cell_type": "code",
   "execution_count": null,
   "id": "693abc5d",
   "metadata": {},
   "outputs": [],
   "source": []
  },
  {
   "cell_type": "markdown",
   "id": "0dc926f8",
   "metadata": {},
   "source": [
    "## fomrating "
   ]
  },
  {
   "cell_type": "code",
   "execution_count": 38,
   "id": "5c007b2b",
   "metadata": {},
   "outputs": [
    {
     "name": "stdout",
     "output_type": "stream",
     "text": [
      "{\n",
      "    \"teacher_formated_response\":[\n",
      "      {\n",
      "        \"question\": \"How many apples does Alice have after giving some to Bob and buying more?\",\n",
      "        \"answer\": \"Alice has 14 apples after the transactions.\"\n",
      "      },\n",
      "      {\n",
      "        \"question\": \"How many apples does each friend get after Alice divides them equally?\",\n",
      "        \"answer\": \"Each friend gets 4 apples.\"\n",
      "      },\n",
      "      {\n",
      "        \"question\": \"How far does the train travel in 3 hours if it moves at 60 km/h?\",\n",
      "        \"answer\": \"The train travels 180 km in 3 hours.\"\n",
      "      },\n",
      "      {\n",
      "        \"question\": \"How many oranges does Charlie have left after eating some and receiving more from a friend?\",\n",
      "        \"answer\": \"Charlie has 12 oranges after the transactions.\"\n",
      "      }\n",
      "    ],\n",
      "\n",
      "    \"student_formated_response\": [\n",
      "      {\n",
      "        \"question\": \"How many apples does Alice have after giving some to Bob and buying more?\",\n",
      "        \"answer\": \"Alice has 12 apples, gives 4 to Bob, and buys 6 more, so she has 14 apples.\"\n",
      "      },\n",
      "      {\n",
      "        \"question\": \"How many apples does each friend get after Alice divides them equally?\",\n",
      "        \"answer\": \"Alice divides all her apples among 3 of her friends, but the exact distribution is not specified.\"\n",
      "      },\n",
      "      {\n",
      "        \"question\": \"How far does the train travel in 3 hours if it moves at 60 km/h?\",\n",
      "        \"answer\": \"The train travels at a speed of 60 km/h for 3 hours, but the exact distance is not calculated in the student's response.\"\n",
      "      },\n",
      "      {\n",
      "        \"question\": \"How many oranges does Charlie have left after eating some and receiving more from a friend?\",\n",
      "        \"answer\": \"Unanswered\"\n",
      "      }\n",
      "    ]\n",
      "}\n"
     ]
    }
   ],
   "source": [
    "system_prompt = \"\"\"\n",
    "You are an AI assistant tasked with formatting student assignments based on teacher-provided questions and responses, along with the student's raw text. Your goal is to structure the student’s answers correctly in relation to the teacher's response.\n",
    "\n",
    "### Instructions:\n",
    "1. Given a set of questions, a raw student response, and a teacher's response, identify the answers in the student’s text.\n",
    "2. For each question:\n",
    "   - Locate the corresponding answer in the student's response.\n",
    "   - Compare it with the teacher's response to ensure completeness.\n",
    "3. Return a structured list of dictionaries. Each dictionary must contain:\n",
    "   - `\"Question\"`: The exact question provided by the teacher.\n",
    "   - `\"Student Answer\"`: The student's response to the question.\n",
    "   - `\"Teacher Answer\"`: The teacher's correct response for reference.\n",
    "4. If the student has not provided an answer, set the `\"Student Answer\"` field to an empty string or indicate \"Unanswered.\"\n",
    "5. Ensure the output is clean and structured, with each question-answer pair correctly aligned.\n",
    "\n",
    "### Format Example:\n",
    "**Teacher’s Questions:**\n",
    "1. What is the capital of France?  \n",
    "2. Who is the president of the USA?  \n",
    "\n",
    "**Student's Raw Text:**  \n",
    "\"The capital of France is Paris. The USA has a leader named Biden.\"  \n",
    "\n",
    "**Teachers's Raw Text:**  \n",
    "\"The capital of France is Paris. The USA has a leader named Biden.\"  \n",
    "\n",
    "**Teacher's Response:**  \n",
    "\"The capital of France is **Paris**. The president of the USA is **Joe Biden**.\"  \n",
    "\n",
    "**Output:**\n",
    "The system will return the following JSON object, you are not alllowed to return anyhitng else other than the JSON object. and don't include this as well ```json```:\n",
    "```json\n",
    "{\n",
    "    \"teacher_formated_response\":[\n",
    "      {\n",
    "        \"question\": \"What is the capital of France?\",\n",
    "        \"answer\": \"The capital of France is Paris.\"\n",
    "      },\n",
    "      {\n",
    "        \"question\": \"Who is the president of the USA?\",\n",
    "        \"answer\": \"Joe Biden is the president of the USA.\"\n",
    "      }\n",
    "    ],\n",
    "\n",
    "    \"student_formated_response\": [\n",
    "      {\n",
    "        \"question\": \"What is the capital of France?\",\n",
    "        \"answer\": \"The capital of France is Paris.\"\n",
    "      },\n",
    "      {\n",
    "        \"question\": \"Who is the president of the USA?\",\n",
    "        \"answer\": \"Joe Biden is the president of the USA.\"\n",
    "      }\n",
    "    ]\n",
    "}\n",
    "```\n",
    "\"\"\"\n",
    "\n",
    "\n",
    "\n",
    "\n",
    "user_prompt = f\"\"\"\n",
    "Teacher’s Questions:\n",
    "{teacher_questions}\n",
    "\n",
    "Student Raw Text:\n",
    "{student_raw_text}\n",
    "\n",
    "Teacher Raw Text:\n",
    "{teacher_raw_text}\n",
    "\"\"\"\n",
    "messages = [{'role':'system','content':system_prompt}]\n",
    "messages.append({'role':'user','content':user_prompt})\n",
    "student_response = get_chatbot_response(client,model_name,messages)\n",
    "print(student_response)"
   ]
  },
  {
   "cell_type": "code",
   "execution_count": 41,
   "id": "42dff754",
   "metadata": {},
   "outputs": [
    {
     "data": {
      "text/plain": [
       "[{'question': 'How many apples does Alice have after giving some to Bob and buying more?',\n",
       "  'answer': 'Alice has 12 apples, gives 4 to Bob, and buys 6 more, so she has 14 apples.'},\n",
       " {'question': 'How many apples does each friend get after Alice divides them equally?',\n",
       "  'answer': 'Alice divides all her apples among 3 of her friends, but the exact distribution is not specified.'},\n",
       " {'question': 'How far does the train travel in 3 hours if it moves at 60 km/h?',\n",
       "  'answer': \"The train travels at a speed of 60 km/h for 3 hours, but the exact distance is not calculated in the student's response.\"},\n",
       " {'question': 'How many oranges does Charlie have left after eating some and receiving more from a friend?',\n",
       "  'answer': 'Unanswered'}]"
      ]
     },
     "execution_count": 41,
     "metadata": {},
     "output_type": "execute_result"
    }
   ],
   "source": [
    "out = json.loads(student_response)\n",
    "out[\"student_formated_response\"]\n"
   ]
  },
  {
   "cell_type": "code",
   "execution_count": null,
   "id": "ca8f6647",
   "metadata": {},
   "outputs": [],
   "source": []
  },
  {
   "cell_type": "code",
   "execution_count": null,
   "id": "6b2dac77",
   "metadata": {},
   "outputs": [],
   "source": []
  },
  {
   "cell_type": "code",
   "execution_count": 22,
   "id": "d50ca843",
   "metadata": {},
   "outputs": [
    {
     "name": "stdout",
     "output_type": "stream",
     "text": [
      "[\n",
      "  {\n",
      "    \"question\": \"How many apples does Alice have after giving some to Bob and buying more?\",\n",
      "    \"answer\": \"Alice has 12 apples, and she gives 4 apples to her friend Bob. Then, she buys 6 more apples from a store.\"\n",
      "  },\n",
      "  {\n",
      "    \"question\": \"How many apples does each friend get after Alice divides them equally?\",\n",
      "    \"answer\": \"After that, she equally divides all her apples among 3 of her friends.\"\n",
      "  },\n",
      "  {\n",
      "    \"question\": \"How far does the train travel in 3 hours if it moves at 60 km/h?\",\n",
      "    \"answer\": \"A train travels at a speed of 60 km/h. If it travels for 3 hours without stopping, how far does it go?\"\n",
      "  },\n",
      "  {\n",
      "    \"question\": \"How many oranges does Charlie have left after eating some and receiving more from a friend?\",\n",
      "    \"answer\": \"\"\n",
      "  }\n",
      "]\n"
     ]
    }
   ],
   "source": [
    "system_prompt = \"\"\"\n",
    "You are an AI assistant tasked with formating the student assignments based on teacher-provided questions and the raw student text. For each question, you need to find the corresponding answer in the raw text and return it in a structured format.\n",
    "\n",
    "Instructions:\n",
    "1. Given a set of questions and a raw student text, identify the answers in the student's response.\n",
    "2. For each question, locate the part of the raw text that corresponds to the answer.\n",
    "3. Return a list of dictionariessystem. Each dictionary should contain:\n",
    "   - \"Question\": The exact question provided by the teacher.\n",
    "   - \"Answer\": The student's answer to that specific question from the raw text.\n",
    "4. If a question is not answered by the student, leave the answer field empty or indicate that the question is unanswered.\n",
    "5. Ensure the output is structured and clean, and each question-answer pair should be matched correctly.\n",
    "\n",
    "Format Example:\n",
    "Teacher’s Questions:\n",
    "1. What is the capital of France?\n",
    "2. Who is the president of the USA?\n",
    "\n",
    "Student's Raw Text:\n",
    "\"The capital of France is Paris. Joe Biden is the president of the USA.\"\n",
    "\n",
    "Output:\n",
    "The system will return the answers in the following format:\n",
    "\n",
    "[\n",
    "  {\n",
    "    \"question\": \"What is the capital of France?\",\n",
    "    \"answer\": \"The capital of France is Paris.\"\n",
    "  },\n",
    "  {\n",
    "    \"question\": \"Who is the president of the USA?\",\n",
    "    \"answer\": \"Joe Biden is the president of the USA.\"\n",
    "  }\n",
    "]\n",
    "\n",
    "Your output should be in a structured json format exactly like the one bellow. You are not allowed to write anything other than the json object:\n",
    "\"\"\"\n",
    "\n",
    "user_prompt = f\"\"\"student_raw_text\n",
    "Teacher’s Questions:\n",
    "{teacher_questions}\n",
    "\n",
    "Raw Text:\n",
    "{student_raw_text}\n",
    "\"\"\"\n",
    "messages = [{'role':'system','content':system_prompt}]\n",
    "messages.append({'role':'user','content':user_prompt})\n",
    "student_response = get_chatbot_response(client,model_name,messages)\n",
    "print(student_response)"
   ]
  },
  {
   "cell_type": "code",
   "execution_count": 23,
   "id": "980ed7a7",
   "metadata": {},
   "outputs": [
    {
     "name": "stdout",
     "output_type": "stream",
     "text": [
      "[\n",
      "  {\n",
      "    \"question\": \"How many apples does Alice have after giving some to Bob and buying more?\",\n",
      "    \"answer\": \"So, Alice has **14 apples** after the transactions.\"\n",
      "  },\n",
      "  {\n",
      "    \"question\": \"How many apples does each friend get after Alice divides them equally?\",\n",
      "    \"answer\": \"Since apples are whole objects, she can distribute **4 apples per friend** and have **2 apples left**.\"\n",
      "  },\n",
      "  {\n",
      "    \"question\": \"How far does the train travel in 3 hours if it moves at 60 km/h?\",\n",
      "    \"answer\": \"So, the train travels **180 km** in 3 hours.\"\n",
      "  },\n",
      "  {\n",
      "    \"question\": \"How many oranges does Charlie have left after eating some and receiving more from a friend?\",\n",
      "    \"answer\": \"So, Charlie has **12 oranges** after the transactions.\"\n",
      "  }\n",
      "]\n"
     ]
    }
   ],
   "source": [
    "user_prompt = f\"\"\"\n",
    "Teacher’s Questions:\n",
    "{teacher_questions}\n",
    "\n",
    "Raw Text:\n",
    "{teacher_raw_text}\n",
    "\"\"\"\n",
    "messages = [{'role':'system','content':system_prompt}]\n",
    "messages.append({'role':'user','content':user_prompt})\n",
    "teacher_response = get_chatbot_response(client,model_name,messages)\n",
    "print(teacher_response)"
   ]
  },
  {
   "cell_type": "code",
   "execution_count": null,
   "id": "326ad5bf",
   "metadata": {},
   "outputs": [],
   "source": []
  },
  {
   "cell_type": "code",
   "execution_count": 24,
   "id": "cf4b5b90",
   "metadata": {},
   "outputs": [
    {
     "name": "stdout",
     "output_type": "stream",
     "text": [
      "{\n",
      "  \"Q1\": 3,\n",
      "  \"Q2\": 2,\n",
      "  \"Q3\": 4,\n",
      "  \"Q4\": 4\n",
      "}\n"
     ]
    }
   ],
   "source": [
    "system_prompt = \"\"\"\n",
    "You are an AI agent tasked with distributing the total marks across a set of questions based on their difficulty, length, and importance. The input consists of a structured response containing question-answer pairs.\n",
    "\n",
    "Instructions:\n",
    "1. The input will consist of a list of dictionaries, each containing a \"question\" and an \"answer\".\n",
    "2. The total marks for the assignment will be provided by the teacher.\n",
    "3. Distribute the total marks across the questions, ensuring that:\n",
    "   - More difficult questions receive more marks.\n",
    "   - Longer answers or more detailed answers are awarded more marks.\n",
    "   - Ensure the marks are distributed in a way that reflects the importance and complexity of each question.\n",
    "4. Return the output as a dictionary where:\n",
    "   - The keys are the question numbers (e.g., \"1\", \"2\", \"3\", etc.).\n",
    "   - The values are the assigned marks for each question.\n",
    "\n",
    "Example Input:\n",
    "[\n",
    "  {\"question\": \"What is the OSI model in networking?\", \"answer\": \"The OSI model in networking is a conceptual framework...\"},\n",
    "  {\"question\": \"What are the differences between a router and a switch?\", \"answer\": \"A router forwards data packets...\"},\n",
    "  {\"question\": \"Explain the importance of firewalls in network security.\", \"answer\": \"Firewalls are crucial for network security because...\"}\n",
    "]\n",
    "\n",
    "total_marks = 30\n",
    "\n",
    "Example Output:\n",
    "Your output should be in a structured json format exactly like the one bellow. You are not allowed to write anything other than the json object:\n",
    "{\n",
    "  \"Q1\": 8,\n",
    "  \"Q2\": 7,\n",
    "  \"Q3\": 15\n",
    "}\n",
    "\n",
    "\n",
    "\"\"\"\n",
    "total_marks = 13\n",
    "user_prompt = f\"\"\"\n",
    "Here is the structured response from the previous agent containing the teacher's questions and the student's answers:\n",
    "{teacher_response}\n",
    "\n",
    "and the total marks for the assignment is {total_marks}.\n",
    "\"\"\"\n",
    "\n",
    "\n",
    "messages = [{'role':'system','content':system_prompt}]\n",
    "messages.append({'role':'user','content':user_prompt})\n",
    "rubric_response = get_chatbot_response(client,model_name,messages)\n",
    "print(rubric_response)"
   ]
  },
  {
   "cell_type": "code",
   "execution_count": null,
   "id": "d169f571",
   "metadata": {},
   "outputs": [],
   "source": []
  },
  {
   "cell_type": "code",
   "execution_count": 28,
   "id": "d0426e0e",
   "metadata": {},
   "outputs": [
    {
     "name": "stdout",
     "output_type": "stream",
     "text": [
      "```json\n",
      "{\n",
      "    \"chain_of_thought\": \"To evaluate the student's assignment, I will compare each response with the corresponding teacher's answer and use the rubric to assign marks. I will consider relevance, correctness, and completeness for each question. For Q1, the student's answer is 'The OSI model in networking is a conceptual framework...' which is similar to the teacher's answer 'The OSI model is a conceptual framework...'. For Q2, the student's answer is 'A router forwards data packets...' which partially matches the teacher's answer 'A router and a switch serve different functions...'. For Q3, the student's answer is 'Firewalls are crucial for network security because...' which is close to the teacher's answer 'Firewalls play a critical role in network security by...'. Based on the rubric, I will assign marks accordingly.\",\n",
      "    \"marks\": {\n",
      "        \"Q1\": 2.5,\n",
      "        \"Q2\": 2,\n",
      "        \"Q3\": 3\n",
      "    },\n",
      "    \"personalized_feedback\": \"You have demonstrated a good understanding of the OSI model and firewalls in network security. However, your answer for the differences between a router and a switch could be improved. Make sure to provide more detailed and accurate information in your responses. Keep up the good work and focus on providing complete and correct answers to achieve better results.\"\n",
      "}\n",
      "```\n"
     ]
    }
   ],
   "source": [
    "system_prompt = \"\"\"\n",
    "You are an AI-based assignment evaluator designed to assess student responses by comparing them against teacher-provided answers and a grading rubric, rubric contain the totals marks for each question. Your task is to analyze structured inputs, assign marks to each question, and generate personalized feedback for the entire assignment.\n",
    "\n",
    "Inputs:\n",
    "1. Extracted Questions from Student File – A structured list of questions answered by the student.\n",
    "2. Teacher’s Answers – The correct or expected responses in a structured format.\n",
    "3. Rubric Details – A structured guideline on how marks should be distributed per question.\n",
    "\n",
    "Evaluation Process:\n",
    "- Compare each student’s response with the corresponding teacher’s answer.\n",
    "- Use the rubric to fairly assign marks to each question.\n",
    "- Ensure the grading considers relevance, correctness, and completeness.\n",
    "- Generate a final response with question-wise marks and overall personalized feedback.\n",
    "\n",
    "\n",
    "Guidelines:\n",
    "- Keep the feedback constructive and encouraging.\n",
    "- Ensure fair grading based on the rubric.\n",
    "- Do not include total marks; the user will handle that separately.\n",
    "\n",
    "\n",
    "\n",
    "Example Input:\n",
    "\n",
    "Student's Extracted Questions and Answers (Structured Format):\n",
    "[\n",
    "  {\"question\": \"What is the OSI modCharlie starts with 10 oranges. He eats 3 oranges, leaving him with:\n",
    "10 - 3 = 7 oranges.\n",
    "Then, his friend gives him 5 more oranges:\n",
    "7 + 5 = 12 oranges.\n",
    "So, Charlie has 12 oranges after the transactions.el in networking?\", \"answer\": \"The OSI model in networking is a conceptual framework...\"},\n",
    "  {\"question\": \"What are the differences between a router and a switch?\", \"answer\": \"A router forwards data packets...\"},\n",
    "  {\"question\": \"Explain the importance of firewalls in network security.\", \"answer\": \"Firewalls are crucial for network security because...\"}\n",
    "]\n",
    "\n",
    "Teacher's Extracted Questions and Answers (Structured Format):\n",
    "\n",
    "[\n",
    "  {\"question\": \"What is the OSI model in networking?\", \"answer\": \"The OSI model is a conceptual framework...\"},\n",
    "  {\"question\": \"What are the differences between a router and a switch?\", \"answer\": \"A router and a switch serve different functions...\"},\n",
    "  {\"question\": \"Explain the importance of firewalls in network security.\", \"answer\": \"Firewalls play a critical role in network security by...\"}\n",
    "]\n",
    "\n",
    "\n",
    "\n",
    "\n",
    "Rubric Details (Structured Format):\n",
    "\n",
    "{\n",
    "  \"Q1\": 3,\n",
    "  \"Q2\": 3,\n",
    "  \"Q3\": 4\n",
    "  ...\n",
    "}\n",
    "\n",
    "\n",
    "Example Output:\n",
    "\n",
    "Your output should be in a structured json format exactly like the one bellow. You are not allowed to write anything other than the json object (start and end with curlly braces):\n",
    "\n",
    "Output Format (JSON):\n",
    "{   \n",
    "    \"chain_of_thought\": \"<here you will think during evaluation process, consider each answers key points>\",\n",
    "    \"marks\": {\n",
    "        \"Q1\": <marks_awarded>,\n",
    "        \"Q2\": <marks_awarded>,\n",
    "        \"Q3\": <marks_awarded>,\n",
    "        ...\n",
    "    },\n",
    "    \"personalized_feedback\": \"<feedback for student based on his assignment, use 2nd person approach>\"\n",
    "}\n",
    "\"\"\"\n",
    "\n",
    "user_prompt = \"\"\"\n",
    "Student's Extracted Questions and Answers (Structured Format):\n",
    "{student_response}\n",
    "\n",
    "Teacher's Extracted Questions and Answers (Structured Format):\n",
    "{teacher_response}\n",
    "\n",
    "Rubric Details (Structured Format):\n",
    "{rubric_response}\n",
    "\"\"\"\n",
    "\n",
    "\n",
    "messages = [{'role':'system','content':system_prompt}]\n",
    "messages.append({'role':'user','content':user_prompt})\n",
    "eval_response = get_chatbot_response(client,model_name,messages)\n",
    "print(eval_response)"
   ]
  },
  {
   "cell_type": "code",
   "execution_count": null,
   "id": "8ef4fe83",
   "metadata": {},
   "outputs": [],
   "source": []
  },
  {
   "cell_type": "code",
   "execution_count": 19,
   "id": "71161a44",
   "metadata": {},
   "outputs": [
    {
     "data": {
      "text/plain": [
       "{'chain_of_thought': \"To evaluate the student's assignment, I will compare each response with the corresponding teacher's answer and use the rubric to assign marks. For Q1, the student's answer 'The OSI model in networking is a conceptual framework...' is similar to the teacher's answer 'The OSI model is a conceptual framework...'. The key points in the student's answer are the definition of the OSI model. For Q2, the student's answer 'A router forwards data packets...' is partially correct, but it does not fully address the differences between a router and a switch. The key points in the student's answer are the function of a router. For Q3, the student's answer 'Firewalls are crucial for network security because...' is similar to the teacher's answer 'Firewalls play a critical role in network security by...'. The key points in the student's answer are the importance of firewalls in network security.\",\n",
       " 'marks': {'Q1': 2.5, 'Q2': 1.5, 'Q3': 3.5},\n",
       " 'personalized_feedback': 'You have demonstrated a good understanding of the OSI model and the importance of firewalls in network security. However, your answer to the question about the differences between a router and a switch could be improved by providing more details and examples. Keep up the good work and make sure to review the material on routers and switches to improve your understanding. Your ability to define key concepts and provide relevant examples is a strength, but be sure to address all parts of the question to maximize your marks.'}"
      ]
     },
     "execution_count": 19,
     "metadata": {},
     "output_type": "execute_result"
    }
   ],
   "source": [
    "json_response = json.loads(eval_response)\n",
    "json_response"
   ]
  },
  {
   "cell_type": "code",
   "execution_count": null,
   "id": "bc4b746b",
   "metadata": {},
   "outputs": [],
   "source": []
  },
  {
   "cell_type": "markdown",
   "id": "f4e9575d",
   "metadata": {},
   "source": [
    "## input structuring"
   ]
  },
  {
   "cell_type": "code",
   "execution_count": 8,
   "id": "779e3f2c",
   "metadata": {},
   "outputs": [
    {
     "name": "stdout",
     "output_type": "stream",
     "text": [
      "[\n",
      "{\n",
      "    \"country\": \"Italy\",\n",
      "    \"capital\": \"Rome\"\n",
      "},\n",
      "{\n",
      "    \"country\": \"France\",\n",
      "    \"capital\": \"Paris\"\n",
      "},\n",
      "{\n",
      "    \"country\": \"Germany\",\n",
      "    \"capital\": \"Berlin\"\n",
      "}\n",
      "]\n"
     ]
    }
   ],
   "source": []
  },
  {
   "cell_type": "code",
   "execution_count": 10,
   "id": "79c2718a",
   "metadata": {},
   "outputs": [
    {
     "data": {
      "text/plain": [
       "[{'country': 'Italy', 'capital': 'Rome'},\n",
       " {'country': 'France', 'capital': 'Paris'},\n",
       " {'country': 'Germany', 'capital': 'Berlin'}]"
      ]
     },
     "execution_count": 10,
     "metadata": {},
     "output_type": "execute_result"
    }
   ],
   "source": [
    "json_response = json.loads(response)\n",
    "json_response"
   ]
  },
  {
   "cell_type": "code",
   "execution_count": null,
   "id": "f21aefb6",
   "metadata": {},
   "outputs": [],
   "source": []
  },
  {
   "cell_type": "markdown",
   "id": "08ffda13",
   "metadata": {},
   "source": [
    "## Give the model time to think (Chain of thought)\n",
    "\n",
    "> https://arxiv.org/pdf/2205.11916"
   ]
  },
  {
   "cell_type": "code",
   "execution_count": null,
   "id": "5f0019ae",
   "metadata": {},
   "outputs": [],
   "source": []
  },
  {
   "cell_type": "code",
   "execution_count": 12,
   "id": "eca28fee",
   "metadata": {},
   "outputs": [
    {
     "name": "stdout",
     "output_type": "stream",
     "text": [
      "{\n",
      "    \"result\": 4\n",
      "}\n"
     ]
    }
   ],
   "source": [
    "user_prompt = \"\"\"\n",
    "Calculate the result of this equation: 1+3\n",
    "\n",
    "Your output should be in a structured json format exactly like the one bellow. You are not allowed to write anything other than the json object:\n",
    "{\n",
    "    result: The final number resulted from calculating the equation above\n",
    "}\n",
    "\"\"\"\n",
    "\n",
    "messages = [{'role':'user','content':user_prompt}]\n",
    "response = get_chatbot_response(client,model_name,messages)\n",
    "print(response)"
   ]
  },
  {
   "cell_type": "code",
   "execution_count": null,
   "id": "69cce70f",
   "metadata": {},
   "outputs": [],
   "source": []
  },
  {
   "cell_type": "code",
   "execution_count": 13,
   "id": "d0bd98b5",
   "metadata": {},
   "outputs": [
    {
     "data": {
      "text/plain": [
       "4113098.0"
      ]
     },
     "execution_count": 13,
     "metadata": {},
     "output_type": "execute_result"
    }
   ],
   "source": [
    "259/2*8654+91072*33-12971"
   ]
  },
  {
   "cell_type": "code",
   "execution_count": 19,
   "id": "f91f7373",
   "metadata": {},
   "outputs": [
    {
     "name": "stdout",
     "output_type": "stream",
     "text": [
      "{\n",
      "    \"result\": 1434921119\n",
      "}\n"
     ]
    }
   ],
   "source": [
    "user_prompt = \"\"\"\n",
    "Calculate the result of this equation: 259/2*8654+91072*33-12971\n",
    "\n",
    "Your output should be in a structured json format exactly like the one bellow. You are not allowed to write anything other than the json object:\n",
    "{\n",
    "    result: The final number resulted from calculating the equation above\n",
    "}\n",
    "\"\"\"\n",
    "\n",
    "messages = [{'role':'user','content':user_prompt}]\n",
    "response = get_chatbot_response(client,model_name,messages)\n",
    "print(response)"
   ]
  },
  {
   "cell_type": "code",
   "execution_count": 20,
   "id": "6243f166",
   "metadata": {},
   "outputs": [
    {
     "data": {
      "text/plain": [
       "-1430808021.0"
      ]
     },
     "execution_count": 20,
     "metadata": {},
     "output_type": "execute_result"
    }
   ],
   "source": [
    "4113098.0 - 1434921119.0"
   ]
  },
  {
   "cell_type": "code",
   "execution_count": null,
   "id": "e69998a4",
   "metadata": {},
   "outputs": [],
   "source": []
  },
  {
   "cell_type": "code",
   "execution_count": 21,
   "id": "58c5128a",
   "metadata": {},
   "outputs": [],
   "source": [
    "user_prompt = \"\"\"\n",
    "Calculate the result of this equation: 259/2*8654+91072*33-12971\n",
    "\n",
    "Your output should be in a structured json format exactly like the one bellow. You are not allowed to write anything other than the json object:\n",
    "{\n",
    "    steps: This is where you solve the equation bit by bit following the BEDMAS order of operations. You need to show your work and calculate each step leading to final result. Feel free to write here in free text. \n",
    "    result: The final number resulted from calculating the equation above\n",
    "}\n",
    "\"\"\"\n",
    "\n",
    "messages = [{'role':'user','content':user_prompt}]\n",
    "response = get_chatbot_response(client,model_name,messages)"
   ]
  },
  {
   "cell_type": "code",
   "execution_count": 22,
   "id": "ea4fb1ae",
   "metadata": {},
   "outputs": [
    {
     "name": "stdout",
     "output_type": "stream",
     "text": [
      "{\n",
      "    \"steps\": \"First, we need to follow the BEDMAS order of operations. \n",
      "    1. Divide 259 by 2: 259/2 = 129.5\n",
      "    2. Multiply 129.5 by 8654: 129.5 * 8654 = 1121111\n",
      "    3. Multiply 91072 by 33: 91072 * 33 = 3005016\n",
      "    4. Add 1121111 and 3005016: 1121111 + 3005016 = 4126137\n",
      "    5. Subtract 12971 from 4126137: 4126137 - 12971 = 4114026\n",
      "    \",\n",
      "    \"result\": 4114026\n",
      "}\n"
     ]
    }
   ],
   "source": [
    "print(response)"
   ]
  },
  {
   "cell_type": "code",
   "execution_count": 23,
   "id": "66cf1d98",
   "metadata": {},
   "outputs": [
    {
     "data": {
      "text/plain": [
       "-928.0"
      ]
     },
     "execution_count": 23,
     "metadata": {},
     "output_type": "execute_result"
    }
   ],
   "source": [
    "4113098.0 - 4114026"
   ]
  },
  {
   "cell_type": "code",
   "execution_count": null,
   "id": "41aab814",
   "metadata": {},
   "outputs": [],
   "source": []
  },
  {
   "cell_type": "markdown",
   "id": "91e6b197",
   "metadata": {},
   "source": [
    "# RAG - Retrieval Augmented Generation"
   ]
  },
  {
   "cell_type": "code",
   "execution_count": null,
   "id": "aef1472c",
   "metadata": {},
   "outputs": [],
   "source": []
  },
  {
   "cell_type": "markdown",
   "id": "5b93c481",
   "metadata": {},
   "source": [
    "#### Asking about a subject that the LLM does not know anything about"
   ]
  },
  {
   "cell_type": "code",
   "execution_count": 11,
   "id": "05eefa05",
   "metadata": {
    "scrolled": false
   },
   "outputs": [
    {
     "name": "stdout",
     "output_type": "stream",
     "text": [
      "Since I'm not aware of any official information about the iPhone 16, I'll provide you with some general information about the latest iPhone models and some rumored features that might be included in future iPhone models.\n",
      "\n",
      "However, I can tell you about the latest iPhone models, such as the iPhone 14 series, which includes:\n",
      "\n",
      "1. iPhone 14\n",
      "2. iPhone 14 Plus\n",
      "3. iPhone 14 Pro\n",
      "4. iPhone 14 Pro Max\n",
      "\n",
      "Some of the notable features of the iPhone 14 series include:\n",
      "\n",
      "1. Improved cameras with a new 48MP main camera on the Pro models\n",
      "2. Faster A16 Bionic chip\n",
      "3. Longer battery life\n",
      "4. New colors and designs\n",
      "5. Enhanced display with a higher refresh rate\n",
      "\n",
      "As for the iPhone 16, there's no official information available yet. However, based on rumors and leaks, here are some potential features that might be included:\n",
      "\n",
      "1. Improved cameras with a new periscope lens or a higher-resolution main camera\n",
      "2. Faster A17 Bionic chip or a new chip design\n",
      "3. Enhanced display with a higher refresh rate or a new OLED panel\n",
      "4. Improved battery life with new battery technologies\n",
      "5. New colors and designs\n",
      "6. Enhanced biometric security with a new fingerprint sensor or facial recognition system\n",
      "7. Improved water resistance and durability\n",
      "8. Enhanced wireless charging capabilities\n",
      "9. New features for augmented reality (AR) and virtual reality (VR) experiences\n",
      "\n",
      "Please note that these are just rumors and speculations, and Apple has not officially announced any information about the iPhone 16.\n"
     ]
    }
   ],
   "source": [
    "user_prompt = \"\"\"\n",
    "What's new in iphone 16?\n",
    "\"\"\"\n",
    "\n",
    "messages = [{'role':'user','content':user_prompt}]\n",
    "response = get_chatbot_response(client,model_name,messages)\n",
    "print(response)"
   ]
  },
  {
   "cell_type": "code",
   "execution_count": null,
   "id": "214f45f3",
   "metadata": {},
   "outputs": [],
   "source": []
  },
  {
   "cell_type": "markdown",
   "id": "f9e132c1",
   "metadata": {},
   "source": [
    "#### Giving Context to the unknown subject"
   ]
  },
  {
   "cell_type": "code",
   "execution_count": 12,
   "id": "e753f57a",
   "metadata": {},
   "outputs": [],
   "source": [
    "iphone_16 = \"\"\"\n",
    "The iPhone 16 introduces several exciting updates, making it one of Apple's most advanced smartphones to date. It features a larger 6.1-inch display for the base model and a 6.7-inch screen for the iPhone 16 Plus, with thinner bezels and a more durable Ceramic Shield. The iPhone 16 Pro and Pro Max boast even larger displays, measuring 6.3 and 6.9 inches respectively, offering the thinnest bezels seen on any Apple product so far.\n",
    "\n",
    "Powered by the new A18 chip (A18 Pro for the Pro models), these phones deliver significant performance improvements, with enhanced neural engine capabilities, faster GPU for gaming, and machine learning tasks. The camera systems are also upgraded, with the base iPhone 16 sporting a dual-camera setup with a 48MP main sensor. The Pro models offer a 48MP Ultra Wide and 5x telephoto camera, enhanced by Apple’s \"Camera Control\" button for more flexible photography options.\n",
    "\n",
    "Apple also introduced advanced audio features like \"Audio Mix,\" which uses machine learning to separate background sounds from speech, allowing for more refined audio capture during video recording. Battery life has been extended, especially in the iPhone 16 Pro Max, which is claimed to have the longest-lasting battery of any iPhone \n",
    "9TO5MAC\n",
    "\n",
    "APPLEMAGAZINE\n",
    ".\n",
    "\n",
    "Additionally, Apple has switched to USB-C for faster charging and data transfer, and the Pro models now support up to 2x faster video encoding. The starting prices remain consistent with previous generations, with the iPhone 16 starting at $799, while the Pro models start at $999\n",
    "\"\"\""
   ]
  },
  {
   "cell_type": "code",
   "execution_count": 13,
   "id": "b31f5e6a",
   "metadata": {},
   "outputs": [
    {
     "name": "stdout",
     "output_type": "stream",
     "text": [
      "According to the text, the new features and updates in the iPhone 16 include:\n",
      "\n",
      "1. Larger display sizes:\n",
      "   - Base model: 6.1-inch\n",
      "   - iPhone 16 Plus: 6.7-inch\n",
      "   - iPhone 16 Pro: 6.3-inch\n",
      "   - iPhone 16 Pro Max: 6.9-inch\n",
      "\n",
      "2. Thinner bezels and a more durable Ceramic Shield.\n",
      "\n",
      "3. New A18 chip (A18 Pro for Pro models) for improved performance, with enhanced neural engine capabilities, faster GPU for gaming, and machine learning tasks.\n",
      "\n",
      "4. Upgraded camera systems:\n",
      "   - Base iPhone 16: Dual-camera setup with a 48MP main sensor.\n",
      "   - Pro models: 48MP Ultra Wide and 5x telephoto camera, with Apple's \"Camera Control\" button for more flexible photography options.\n",
      "\n",
      "5. Advanced audio features like \"Audio Mix,\" which uses machine learning to separate background sounds from speech, allowing for more refined audio capture during video recording.\n",
      "\n",
      "6. Extended battery life, especially in the iPhone 16 Pro Max, which is claimed to have the longest-lasting battery of any iPhone.\n",
      "\n",
      "7. Switch to USB-C for faster charging and data transfer.\n",
      "\n",
      "8. Support for up to 2x faster video encoding in Pro models.\n",
      "\n",
      "9. Starting prices remain consistent with previous generations:\n",
      "   - iPhone 16: $799\n",
      "   - Pro models: $999\n"
     ]
    }
   ],
   "source": [
    "user_prompt = f\"\"\"\n",
    "{iphone_16}\n",
    "\n",
    "What's new in iphone 16?\n",
    "\"\"\"\n",
    "\n",
    "messages = [{'role':'user','content':user_prompt}]\n",
    "response = get_chatbot_response(client,model_name,messages)\n",
    "print(response)"
   ]
  },
  {
   "cell_type": "code",
   "execution_count": null,
   "id": "902232f5",
   "metadata": {},
   "outputs": [],
   "source": []
  },
  {
   "cell_type": "markdown",
   "id": "546d94c8",
   "metadata": {},
   "source": [
    "#### Automatically extract context data from database"
   ]
  },
  {
   "cell_type": "code",
   "execution_count": 27,
   "id": "86b0e678",
   "metadata": {},
   "outputs": [],
   "source": [
    "samsung_s23 = \"\"\"\n",
    "The Samsung Galaxy S23 brings some incremental but notable upgrades to its predecessor, the Galaxy S22. It features the Snapdragon 8 Gen 2 processor, a powerful chip optimized for the S23 series, delivering enhanced performance, especially for gaming and multitasking. This chip ensures top-tier speed and efficiency across all models, from the base S23 to the larger S23+ and S23 Ultra​\n",
    "STUFF\n",
    "\n",
    "TECHRADAR\n",
    ".\n",
    "\n",
    "In terms of design, the S23's camera module has been streamlined by removing the raised metal contour around the cameras, creating a cleaner, sleeker look. It also sports the same 6.1-inch 120Hz AMOLED display, protected by tougher Gorilla Glass Victus 2, making it more resistant to scratches and drops​\n",
    "TECHRADAR\n",
    ".\n",
    "\n",
    "The S23 Ultra stands out with its 200MP main camera, offering impressive photo clarity, especially in low-light conditions. The selfie camera across the series has been updated to a 12MP sensor, resulting in sharper selfies. The Ultra model also includes productivity tools such as the S-Pen, which remains an essential feature for note-taking and creative tasks​\n",
    "STUFF\n",
    "\n",
    "TECHRADAR\n",
    ".\n",
    "\n",
    "Battery life is solid, with the S23 Ultra featuring a 5000mAh battery that lasts comfortably through a day of heavy use. However, charging speeds still lag behind some competitors, with 45W wired charging, which is slower than other brands offering up to 125W charging​\n",
    "STUFF\n",
    ".\n",
    "\n",
    "Overall, the Galaxy S23 series enhances performance, durability, and camera quality, making it a strong contender for users seeking a high-performance flagship.\n",
    "\"\"\""
   ]
  },
  {
   "cell_type": "code",
   "execution_count": 28,
   "id": "510711ef",
   "metadata": {},
   "outputs": [],
   "source": [
    "data = [iphone_16,samsung_s23]"
   ]
  },
  {
   "cell_type": "code",
   "execution_count": 29,
   "id": "b4b9efd3",
   "metadata": {},
   "outputs": [],
   "source": [
    "user_prompt = \"\"\"What's new in iphone 16?\"\"\""
   ]
  },
  {
   "cell_type": "code",
   "execution_count": null,
   "id": "475f90a8",
   "metadata": {},
   "outputs": [],
   "source": []
  },
  {
   "cell_type": "code",
   "execution_count": 30,
   "id": "3a12f389",
   "metadata": {},
   "outputs": [
    {
     "ename": "OpenAIError",
     "evalue": "The api_key client option must be set either by passing api_key to the client or by setting the OPENAI_API_KEY environment variable",
     "output_type": "error",
     "traceback": [
      "\u001b[0;31m---------------------------------------------------------------------------\u001b[0m",
      "\u001b[0;31mOpenAIError\u001b[0m                               Traceback (most recent call last)",
      "Cell \u001b[0;32mIn[30], line 1\u001b[0m\n\u001b[0;32m----> 1\u001b[0m embedding_client \u001b[38;5;241m=\u001b[39m \u001b[43mOpenAI\u001b[49m\u001b[43m(\u001b[49m\n\u001b[1;32m      2\u001b[0m \u001b[43m        \u001b[49m\u001b[43mapi_key\u001b[49m\u001b[38;5;241;43m=\u001b[39;49m\u001b[43mos\u001b[49m\u001b[38;5;241;43m.\u001b[39;49m\u001b[43mgetenv\u001b[49m\u001b[43m(\u001b[49m\u001b[38;5;124;43m\"\u001b[39;49m\u001b[38;5;124;43mRUNPOD_TOKEN\u001b[39;49m\u001b[38;5;124;43m\"\u001b[39;49m\u001b[43m)\u001b[49m\u001b[43m,\u001b[49m\u001b[43m \u001b[49m\n\u001b[1;32m      3\u001b[0m \u001b[43m        \u001b[49m\u001b[43mbase_url\u001b[49m\u001b[38;5;241;43m=\u001b[39;49m\u001b[43mos\u001b[49m\u001b[38;5;241;43m.\u001b[39;49m\u001b[43mgetenv\u001b[49m\u001b[43m(\u001b[49m\u001b[38;5;124;43m\"\u001b[39;49m\u001b[38;5;124;43mRUNPOD_EMBEDDING_URL\u001b[39;49m\u001b[38;5;124;43m\"\u001b[39;49m\u001b[43m)\u001b[49m\n\u001b[1;32m      4\u001b[0m \u001b[43m    \u001b[49m\u001b[43m)\u001b[49m\n",
      "File \u001b[0;32m~/RegenAI/coffee_shop_app/python_code/shop/lib/python3.12/site-packages/openai/_client.py:105\u001b[0m, in \u001b[0;36mOpenAI.__init__\u001b[0;34m(self, api_key, organization, project, base_url, timeout, max_retries, default_headers, default_query, http_client, _strict_response_validation)\u001b[0m\n\u001b[1;32m    103\u001b[0m     api_key \u001b[38;5;241m=\u001b[39m os\u001b[38;5;241m.\u001b[39menviron\u001b[38;5;241m.\u001b[39mget(\u001b[38;5;124m\"\u001b[39m\u001b[38;5;124mOPENAI_API_KEY\u001b[39m\u001b[38;5;124m\"\u001b[39m)\n\u001b[1;32m    104\u001b[0m \u001b[38;5;28;01mif\u001b[39;00m api_key \u001b[38;5;129;01mis\u001b[39;00m \u001b[38;5;28;01mNone\u001b[39;00m:\n\u001b[0;32m--> 105\u001b[0m     \u001b[38;5;28;01mraise\u001b[39;00m OpenAIError(\n\u001b[1;32m    106\u001b[0m         \u001b[38;5;124m\"\u001b[39m\u001b[38;5;124mThe api_key client option must be set either by passing api_key to the client or by setting the OPENAI_API_KEY environment variable\u001b[39m\u001b[38;5;124m\"\u001b[39m\n\u001b[1;32m    107\u001b[0m     )\n\u001b[1;32m    108\u001b[0m \u001b[38;5;28mself\u001b[39m\u001b[38;5;241m.\u001b[39mapi_key \u001b[38;5;241m=\u001b[39m api_key\n\u001b[1;32m    110\u001b[0m \u001b[38;5;28;01mif\u001b[39;00m organization \u001b[38;5;129;01mis\u001b[39;00m \u001b[38;5;28;01mNone\u001b[39;00m:\n",
      "\u001b[0;31mOpenAIError\u001b[0m: The api_key client option must be set either by passing api_key to the client or by setting the OPENAI_API_KEY environment variable"
     ]
    }
   ],
   "source": [
    "embedding_client = OpenAI(\n",
    "        api_key=os.getenv(\"RUNPOD_TOKEN\"), \n",
    "        base_url=os.getenv(\"RUNPOD_EMBEDDING_URL\")\n",
    "    )"
   ]
  },
  {
   "cell_type": "code",
   "execution_count": 12,
   "id": "88b3fd3b",
   "metadata": {},
   "outputs": [],
   "source": [
    "def get_embedding(embedding_client,model_name,text_input):\n",
    "    output = embedding_client.embeddings.create(input = text_input,model=model_name)\n",
    "    \n",
    "    embedings = []\n",
    "    for embedding_object in output.data:\n",
    "        embedings.append(embedding_object.embedding)\n",
    "\n",
    "    return embedings"
   ]
  },
  {
   "cell_type": "code",
   "execution_count": 13,
   "id": "9d06859b",
   "metadata": {},
   "outputs": [],
   "source": [
    "user_prompt_embeddings = get_embedding(embedding_client,model_name,user_prompt)"
   ]
  },
  {
   "cell_type": "code",
   "execution_count": 14,
   "id": "feb94816",
   "metadata": {},
   "outputs": [
    {
     "data": {
      "text/plain": [
       "[[-0.05110831558704376,\n",
       "  -0.03489653766155243,\n",
       "  0.06350376456975937,\n",
       "  -0.008884420618414879,\n",
       "  -0.03724740073084831,\n",
       "  -0.042040713131427765,\n",
       "  0.015921736136078835,\n",
       "  0.031126001849770546,\n",
       "  -0.01283814013004303,\n",
       "  0.04246814176440239,\n",
       "  0.05556579306721687,\n",
       "  0.01331899780780077,\n",
       "  -0.07211340963840485,\n",
       "  0.0014378030318766832,\n",
       "  0.09635474532842636,\n",
       "  0.028714081272482872,\n",
       "  0.11510057002305984,\n",
       "  -0.14752411842346191,\n",
       "  -0.07907439768314362,\n",
       "  0.016150716692209244,\n",
       "  -0.0367589071393013,\n",
       "  -0.014563122764229774,\n",
       "  -0.03975091129541397,\n",
       "  -0.030057430267333984,\n",
       "  0.030118491500616074,\n",
       "  0.06139714643359184,\n",
       "  0.0010905168019235134,\n",
       "  -0.012731282971799374,\n",
       "  -0.019188515841960907,\n",
       "  -0.1384870558977127,\n",
       "  -0.00042075058445334435,\n",
       "  -0.006739642005413771,\n",
       "  0.0166850034147501,\n",
       "  0.026943303644657135,\n",
       "  0.000493737927172333,\n",
       "  -0.03840756416320801,\n",
       "  -0.0031103105284273624,\n",
       "  0.03489653766155243,\n",
       "  -0.009601891040802002,\n",
       "  0.06374800950288773,\n",
       "  0.029599469155073166,\n",
       "  0.09122559428215027,\n",
       "  -0.10142283886671066,\n",
       "  -0.02421080879867077,\n",
       "  0.046742431819438934,\n",
       "  0.005743579473346472,\n",
       "  0.02724860981106758,\n",
       "  -0.019982313737273216,\n",
       "  0.011662710458040237,\n",
       "  -0.042712386697530746,\n",
       "  0.04546014592051506,\n",
       "  -0.0022459113970398903,\n",
       "  0.014685245230793953,\n",
       "  -0.05455828085541725,\n",
       "  -0.007789133582264185,\n",
       "  -0.016303369775414467,\n",
       "  0.007953235879540443,\n",
       "  0.031416043639183044,\n",
       "  0.06869397312402725,\n",
       "  0.04265132546424866,\n",
       "  0.08859995752573013,\n",
       "  -0.02335595153272152,\n",
       "  -0.1447153091430664,\n",
       "  0.09659899026155472,\n",
       "  0.009311850182712078,\n",
       "  0.03681996837258339,\n",
       "  -0.04552120715379715,\n",
       "  -0.1142457127571106,\n",
       "  0.023707052692770958,\n",
       "  -0.0735178142786026,\n",
       "  -0.0056825182400643826,\n",
       "  0.03630094975233078,\n",
       "  0.04533802345395088,\n",
       "  0.06231306865811348,\n",
       "  -0.01633390039205551,\n",
       "  -0.007953235879540443,\n",
       "  0.07498329132795334,\n",
       "  0.02607318013906479,\n",
       "  -0.041704874485731125,\n",
       "  0.034469109028577805,\n",
       "  0.0684497281908989,\n",
       "  0.0087622981518507,\n",
       "  0.02092876471579075,\n",
       "  0.028744611889123917,\n",
       "  0.030561186373233795,\n",
       "  -0.04234601929783821,\n",
       "  -0.038193847984075546,\n",
       "  0.028881998732686043,\n",
       "  0.001000832999125123,\n",
       "  -0.08359293639659882,\n",
       "  0.003173280041664839,\n",
       "  -0.021921010687947273,\n",
       "  0.06344269961118698,\n",
       "  0.0452464297413826,\n",
       "  -0.11241386830806732,\n",
       "  0.05959583818912506,\n",
       "  0.025035137310624123,\n",
       "  -0.058893632143735886,\n",
       "  -0.0548635870218277,\n",
       "  0.30726051330566406,\n",
       "  -0.01837945356965065,\n",
       "  0.035598743706941605,\n",
       "  0.058557797223329544,\n",
       "  -0.03935401514172554,\n",
       "  0.03419433534145355,\n",
       "  -0.050925131887197495,\n",
       "  -0.019142720848321915,\n",
       "  -0.0373084619641304,\n",
       "  -0.045826513320207596,\n",
       "  0.05721444636583328,\n",
       "  -0.007689908612519503,\n",
       "  -0.04100266844034195,\n",
       "  0.06032857298851013,\n",
       "  0.007613582070916891,\n",
       "  -0.003907924052327871,\n",
       "  -0.04026993364095688,\n",
       "  0.05254325643181801,\n",
       "  0.050864070653915405,\n",
       "  0.05263485014438629,\n",
       "  0.05043664202094078,\n",
       "  0.01057123951613903,\n",
       "  0.017494065687060356,\n",
       "  -0.0074952756986021996,\n",
       "  0.016837656497955322,\n",
       "  -0.0015732827596366405,\n",
       "  -0.025233587250113487,\n",
       "  0.0023985644802451134,\n",
       "  0.03608723357319832,\n",
       "  -0.031126001849770546,\n",
       "  0.021295132115483284,\n",
       "  0.009075237438082695,\n",
       "  0.010975770652294159,\n",
       "  -0.08853890001773834,\n",
       "  0.05568791553378105,\n",
       "  0.036270417273044586,\n",
       "  -0.02494354546070099,\n",
       "  0.003381269983947277,\n",
       "  -0.015326389111578465,\n",
       "  0.020898234099149704,\n",
       "  0.006690029986202717,\n",
       "  -0.07809741795063019,\n",
       "  -0.027889752760529518,\n",
       "  0.0882335901260376,\n",
       "  -0.07791423052549362,\n",
       "  0.012021445669233799,\n",
       "  0.034682825207710266,\n",
       "  -0.0001400116743752733,\n",
       "  0.05141362175345421,\n",
       "  -0.000184138014446944,\n",
       "  0.04054471105337143,\n",
       "  -0.03217931091785431,\n",
       "  0.08389823883771896,\n",
       "  0.0333700068295002,\n",
       "  0.016608675941824913,\n",
       "  0.01950908824801445,\n",
       "  0.01312054879963398,\n",
       "  -0.01883741468191147,\n",
       "  -0.038987647742033005,\n",
       "  -0.01917325146496296,\n",
       "  0.08188321441411972,\n",
       "  -0.007968501187860966,\n",
       "  0.007609765976667404,\n",
       "  -0.06258784234523773,\n",
       "  -0.019753333181142807,\n",
       "  -0.011105525307357311,\n",
       "  -0.17097166180610657,\n",
       "  0.007548704277724028,\n",
       "  0.051199909299612045,\n",
       "  -0.04716986045241356,\n",
       "  -0.0004651154449675232,\n",
       "  -0.010166708379983902,\n",
       "  -0.006445784587413073,\n",
       "  0.024042891338467598,\n",
       "  -0.03069857321679592,\n",
       "  0.06716743856668472,\n",
       "  -0.029492612928152084,\n",
       "  0.02657693438231945,\n",
       "  0.09421759843826294,\n",
       "  -0.006503029726445675,\n",
       "  -0.0057397629134356976,\n",
       "  -0.023004848510026932,\n",
       "  -0.029202571138739586,\n",
       "  -0.10093434900045395,\n",
       "  0.0508946031332016,\n",
       "  0.06124449521303177,\n",
       "  -0.02724860981106758,\n",
       "  0.016486553475260735,\n",
       "  -0.012960262596607208,\n",
       "  0.08347081393003464,\n",
       "  -0.015906471759080887,\n",
       "  0.025019871070981026,\n",
       "  0.030973348766565323,\n",
       "  -0.07321251183748245,\n",
       "  0.058832570910453796,\n",
       "  -0.03923189267516136,\n",
       "  -0.015799613669514656,\n",
       "  0.011303975246846676,\n",
       "  0.038926586508750916,\n",
       "  0.002831718185916543,\n",
       "  -0.05529101565480232,\n",
       "  0.014563122764229774,\n",
       "  -0.0067129279486835,\n",
       "  0.023936033248901367,\n",
       "  0.03398061916232109,\n",
       "  0.07205234467983246,\n",
       "  -0.004488006234169006,\n",
       "  0.0009807973401620984,\n",
       "  -0.049795497208833694,\n",
       "  0.03098861500620842,\n",
       "  0.01899006776511669,\n",
       "  -0.0006168146501295269,\n",
       "  0.01362430490553379,\n",
       "  0.1255420595407486,\n",
       "  -0.016440758481621742,\n",
       "  -0.0013261752901598811,\n",
       "  -0.07944076508283615,\n",
       "  -0.026668526232242584,\n",
       "  0.04054471105337143,\n",
       "  -0.0446663498878479,\n",
       "  -0.037735890597105026,\n",
       "  -0.004690271802246571,\n",
       "  0.05614587292075157,\n",
       "  0.025874730199575424,\n",
       "  -0.25816720724105835,\n",
       "  0.04231548681855202,\n",
       "  -0.008647807873785496,\n",
       "  -0.06722850352525711,\n",
       "  -0.00847988948225975,\n",
       "  -0.03437751904129982,\n",
       "  -0.0021581356413662434,\n",
       "  -0.04216283559799194,\n",
       "  0.06209935247898102,\n",
       "  0.040117282420396805,\n",
       "  -0.017723044380545616,\n",
       "  0.01382275391370058,\n",
       "  0.06380906701087952,\n",
       "  0.029843715950846672,\n",
       "  0.05648171156644821,\n",
       "  0.006758723873645067,\n",
       "  0.013983040116727352,\n",
       "  -0.06301527470350266,\n",
       "  0.03529343754053116,\n",
       "  0.009098134934902191,\n",
       "  -0.03697262331843376,\n",
       "  0.010250667110085487,\n",
       "  0.027462324127554893,\n",
       "  -0.014227285049855709,\n",
       "  -0.010258300229907036,\n",
       "  -0.09653793275356293,\n",
       "  0.05037558078765869,\n",
       "  0.005930579733103514,\n",
       "  0.012517568655312061,\n",
       "  0.013929611071944237,\n",
       "  0.040911078453063965,\n",
       "  0.053581301122903824,\n",
       "  -0.033339474350214005,\n",
       "  -0.12138988077640533,\n",
       "  -0.0020264722406864166,\n",
       "  0.03428592532873154,\n",
       "  0.03379743546247482,\n",
       "  0.06362588703632355,\n",
       "  -0.07638769596815109,\n",
       "  -0.09171408414840698,\n",
       "  0.001887176069431007,\n",
       "  0.025141993537545204,\n",
       "  0.04265132546424866,\n",
       "  -0.06490816920995712,\n",
       "  0.022027866914868355,\n",
       "  0.020028110593557358,\n",
       "  -0.016776595264673233,\n",
       "  0.038590747863054276,\n",
       "  -0.04527696222066879,\n",
       "  -0.027065426111221313,\n",
       "  0.04451369494199753,\n",
       "  -0.009479768574237823,\n",
       "  0.06722850352525711,\n",
       "  0.0220583975315094,\n",
       "  0.04759729281067848,\n",
       "  -0.0214935801923275,\n",
       "  -0.0548635870218277,\n",
       "  0.015738552436232567,\n",
       "  0.013715896755456924,\n",
       "  -0.0046635577455163,\n",
       "  -0.044361039996147156,\n",
       "  0.011540587991476059,\n",
       "  -0.06545772403478622,\n",
       "  -0.08115047961473465,\n",
       "  0.015860674902796745,\n",
       "  0.0015980890020728111,\n",
       "  -0.026317425072193146,\n",
       "  -0.1306712031364441,\n",
       "  -0.05648171156644821,\n",
       "  -0.12096245586872101,\n",
       "  -0.0008892053156159818,\n",
       "  0.002738218056038022,\n",
       "  -0.02973685786128044,\n",
       "  0.01599806360900402,\n",
       "  0.0226232148706913,\n",
       "  -0.02080664224922657,\n",
       "  0.0882335901260376,\n",
       "  0.029981102794408798,\n",
       "  0.03700315207242966,\n",
       "  -0.03623988851904869,\n",
       "  -0.006724376697093248,\n",
       "  0.11400146782398224,\n",
       "  0.03968985006213188,\n",
       "  -0.020821906626224518,\n",
       "  0.0007651745690964162,\n",
       "  0.04081948474049568,\n",
       "  0.0554131381213665,\n",
       "  -0.03086649253964424,\n",
       "  0.016929248347878456,\n",
       "  -0.03404168039560318,\n",
       "  -0.0023279625456780195,\n",
       "  -0.04146062955260277,\n",
       "  0.018700025975704193,\n",
       "  -0.08511946350336075,\n",
       "  0.06496923416852951,\n",
       "  -0.0087622981518507,\n",
       "  -0.15814879536628723,\n",
       "  -0.0008768022526055574,\n",
       "  0.021111948415637016,\n",
       "  0.013784591108560562,\n",
       "  -0.05874098092317581,\n",
       "  -0.024042891338467598,\n",
       "  0.026851711794734,\n",
       "  -0.017723044380545616,\n",
       "  -0.030011633411049843,\n",
       "  0.038590747863054276,\n",
       "  -0.04347565397620201,\n",
       "  -0.03636201098561287,\n",
       "  0.005171129480004311,\n",
       "  -0.021982071921229362,\n",
       "  -0.010388055816292763,\n",
       "  0.02414974756538868,\n",
       "  0.08206640183925629,\n",
       "  0.00922025740146637,\n",
       "  0.01410516258329153,\n",
       "  0.010380422696471214,\n",
       "  -0.024470319971442223,\n",
       "  -0.029492612928152084,\n",
       "  0.059626370668411255,\n",
       "  -0.07131960988044739,\n",
       "  -0.03069857321679592,\n",
       "  0.028851468116044998,\n",
       "  0.02567628026008606,\n",
       "  0.023279624059796333,\n",
       "  -0.0063923560082912445,\n",
       "  0.033553190529346466,\n",
       "  0.02160043828189373,\n",
       "  0.007186152972280979,\n",
       "  0.05434456467628479,\n",
       "  0.027569182217121124,\n",
       "  -0.023142237216234207,\n",
       "  -0.010357524268329144,\n",
       "  -0.04970390722155571,\n",
       "  -0.032209839671850204,\n",
       "  -0.030057430267333984,\n",
       "  0.02781342715024948,\n",
       "  -0.053398117423057556,\n",
       "  0.003934638109058142,\n",
       "  -0.1311596930027008,\n",
       "  0.019371701404452324,\n",
       "  0.0633205771446228,\n",
       "  -0.05077248066663742,\n",
       "  -0.04646765813231468,\n",
       "  0.03343106806278229,\n",
       "  -0.033400535583496094,\n",
       "  -0.010502545163035393,\n",
       "  -0.00972401350736618,\n",
       "  -0.039384543895721436,\n",
       "  0.0003277274954598397,\n",
       "  0.030347470194101334,\n",
       "  0.053398117423057556,\n",
       "  -0.00101419014390558,\n",
       "  -0.012906834483146667,\n",
       "  -0.04420838877558708,\n",
       "  0.033675312995910645,\n",
       "  0.04054471105337143,\n",
       "  0.026332689449191093,\n",
       "  0.006018355488777161,\n",
       "  -0.05605428293347359,\n",
       "  0.0163949616253376,\n",
       "  -0.013593774288892746]]"
      ]
     },
     "execution_count": 14,
     "metadata": {},
     "output_type": "execute_result"
    }
   ],
   "source": [
    "user_prompt_embeddings"
   ]
  },
  {
   "cell_type": "code",
   "execution_count": 15,
   "id": "6b6797c7",
   "metadata": {},
   "outputs": [],
   "source": [
    "user_prompt_embeddings = user_prompt_embeddings[0]"
   ]
  },
  {
   "cell_type": "code",
   "execution_count": null,
   "id": "44f5c89f",
   "metadata": {},
   "outputs": [],
   "source": []
  },
  {
   "cell_type": "code",
   "execution_count": 16,
   "id": "929b2c32",
   "metadata": {},
   "outputs": [],
   "source": [
    "data_embeddings = [get_embedding(embedding_client,model_name,x)[0] for x in data]"
   ]
  },
  {
   "cell_type": "code",
   "execution_count": 17,
   "id": "74c1c911",
   "metadata": {},
   "outputs": [],
   "source": [
    "data_similaraty_scores = cosine_similarity([user_prompt_embeddings], data_embeddings)"
   ]
  },
  {
   "cell_type": "code",
   "execution_count": 20,
   "id": "ee652d4c",
   "metadata": {},
   "outputs": [
    {
     "data": {
      "text/plain": [
       "array([[0.73779758, 0.52622817]])"
      ]
     },
     "execution_count": 20,
     "metadata": {},
     "output_type": "execute_result"
    }
   ],
   "source": [
    "data_similaraty_scores"
   ]
  },
  {
   "cell_type": "code",
   "execution_count": 22,
   "id": "e06a7cee",
   "metadata": {},
   "outputs": [
    {
     "data": {
      "text/plain": [
       "0"
      ]
     },
     "execution_count": 22,
     "metadata": {},
     "output_type": "execute_result"
    }
   ],
   "source": [
    "closest_entry_index=data_similaraty_scores.argmax()\n",
    "closest_entry_index"
   ]
  },
  {
   "cell_type": "code",
   "execution_count": 23,
   "id": "5247a12f",
   "metadata": {},
   "outputs": [
    {
     "data": {
      "text/plain": [
       "'\\nThe iPhone 16 introduces several exciting updates, making it one of Apple\\'s most advanced smartphones to date. It features a larger 6.1-inch display for the base model and a 6.7-inch screen for the iPhone 16 Plus, with thinner bezels and a more durable Ceramic Shield. The iPhone 16 Pro and Pro Max boast even larger displays, measuring 6.3 and 6.9 inches respectively, offering the thinnest bezels seen on any Apple product so far.\\n\\nPowered by the new A18 chip (A18 Pro for the Pro models), these phones deliver significant performance improvements, with enhanced neural engine capabilities, faster GPU for gaming, and machine learning tasks. The camera systems are also upgraded, with the base iPhone 16 sporting a dual-camera setup with a 48MP main sensor. The Pro models offer a 48MP Ultra Wide and 5x telephoto camera, enhanced by Apple’s \"Camera Control\" button for more flexible photography options.\\n\\nApple also introduced advanced audio features like \"Audio Mix,\" which uses machine learning to separate background sounds from speech, allowing for more refined audio capture during video recording. Battery life has been extended, especially in the iPhone 16 Pro Max, which is claimed to have the longest-lasting battery of any iPhone \\n9TO5MAC\\n\\nAPPLEMAGAZINE\\n.\\n\\nAdditionally, Apple has switched to USB-C for faster charging and data transfer, and the Pro models now support up to 2x faster video encoding. The starting prices remain consistent with previous generations, with the iPhone 16 starting at $799, while the Pro models start at $999\\n'"
      ]
     },
     "execution_count": 23,
     "metadata": {},
     "output_type": "execute_result"
    }
   ],
   "source": [
    "data[closest_entry_index]"
   ]
  },
  {
   "cell_type": "code",
   "execution_count": null,
   "id": "b47352cd",
   "metadata": {},
   "outputs": [],
   "source": []
  },
  {
   "cell_type": "code",
   "execution_count": 24,
   "id": "3e1943cd",
   "metadata": {},
   "outputs": [],
   "source": [
    "user_prompt_with_data = f\"\"\"\n",
    "{data[closest_entry_index]}\n",
    "\n",
    "{user_prompt}\n",
    "\"\"\" "
   ]
  },
  {
   "cell_type": "code",
   "execution_count": 25,
   "id": "78d7473c",
   "metadata": {},
   "outputs": [
    {
     "data": {
      "text/plain": [
       "'\\n\\nThe iPhone 16 introduces several exciting updates, making it one of Apple\\'s most advanced smartphones to date. It features a larger 6.1-inch display for the base model and a 6.7-inch screen for the iPhone 16 Plus, with thinner bezels and a more durable Ceramic Shield. The iPhone 16 Pro and Pro Max boast even larger displays, measuring 6.3 and 6.9 inches respectively, offering the thinnest bezels seen on any Apple product so far.\\n\\nPowered by the new A18 chip (A18 Pro for the Pro models), these phones deliver significant performance improvements, with enhanced neural engine capabilities, faster GPU for gaming, and machine learning tasks. The camera systems are also upgraded, with the base iPhone 16 sporting a dual-camera setup with a 48MP main sensor. The Pro models offer a 48MP Ultra Wide and 5x telephoto camera, enhanced by Apple’s \"Camera Control\" button for more flexible photography options.\\n\\nApple also introduced advanced audio features like \"Audio Mix,\" which uses machine learning to separate background sounds from speech, allowing for more refined audio capture during video recording. Battery life has been extended, especially in the iPhone 16 Pro Max, which is claimed to have the longest-lasting battery of any iPhone \\n9TO5MAC\\n\\nAPPLEMAGAZINE\\n.\\n\\nAdditionally, Apple has switched to USB-C for faster charging and data transfer, and the Pro models now support up to 2x faster video encoding. The starting prices remain consistent with previous generations, with the iPhone 16 starting at $799, while the Pro models start at $999\\n\\n\\nWhat\\'s new in iphone 16?\\n'"
      ]
     },
     "execution_count": 25,
     "metadata": {},
     "output_type": "execute_result"
    }
   ],
   "source": [
    "user_prompt_with_data"
   ]
  },
  {
   "cell_type": "code",
   "execution_count": null,
   "id": "21ecec6f",
   "metadata": {},
   "outputs": [],
   "source": []
  },
  {
   "cell_type": "code",
   "execution_count": 26,
   "id": "969633a2",
   "metadata": {},
   "outputs": [
    {
     "name": "stdout",
     "output_type": "stream",
     "text": [
      "According to the text, the new features and updates in the iPhone 16 include:\n",
      "\n",
      "1. Larger display sizes:\n",
      "   - Base model: 6.1-inch\n",
      "   - iPhone 16 Plus: 6.7-inch\n",
      "   - iPhone 16 Pro: 6.3-inch\n",
      "   - iPhone 16 Pro Max: 6.9-inch\n",
      "\n",
      "2. Thinner bezels and a more durable Ceramic Shield.\n",
      "\n",
      "3. New A18 chip (A18 Pro for Pro models) for improved performance, with:\n",
      "   - Enhanced neural engine capabilities\n",
      "   - Faster GPU for gaming\n",
      "   - Machine learning tasks\n",
      "\n",
      "4. Upgraded camera systems:\n",
      "   - Base iPhone 16: Dual-camera setup with a 48MP main sensor\n",
      "   - Pro models: 48MP Ultra Wide and 5x telephoto camera, with Apple's \"Camera Control\" button\n",
      "\n",
      "5. Advanced audio features:\n",
      "   - \"Audio Mix\" for refined audio capture during video recording\n",
      "\n",
      "6. Extended battery life, especially in the iPhone 16 Pro Max.\n",
      "\n",
      "7. Switch to USB-C for faster charging and data transfer.\n",
      "\n",
      "8. Support for up to 2x faster video encoding in Pro models.\n",
      "\n",
      "9. Starting prices remain consistent with previous generations:\n",
      "   - iPhone 16: $799\n",
      "   - Pro models: $999\n"
     ]
    }
   ],
   "source": [
    "messages = [{'role':'user','content':user_prompt_with_data}]\n",
    "response = get_chatbot_response(client,model_name,messages)\n",
    "print(response)"
   ]
  },
  {
   "cell_type": "code",
   "execution_count": null,
   "id": "2e67627e",
   "metadata": {},
   "outputs": [],
   "source": []
  },
  {
   "cell_type": "code",
   "execution_count": null,
   "id": "a00890ae",
   "metadata": {},
   "outputs": [],
   "source": []
  },
  {
   "cell_type": "code",
   "execution_count": null,
   "id": "69b598fd",
   "metadata": {},
   "outputs": [],
   "source": []
  },
  {
   "cell_type": "code",
   "execution_count": null,
   "id": "39e59445",
   "metadata": {},
   "outputs": [],
   "source": []
  }
 ],
 "metadata": {
  "kernelspec": {
   "display_name": "Python 3 (ipykernel)",
   "language": "python",
   "name": "python3"
  },
  "language_info": {
   "codemirror_mode": {
    "name": "ipython",
    "version": 3
   },
   "file_extension": ".py",
   "mimetype": "text/x-python",
   "name": "python",
   "nbconvert_exporter": "python",
   "pygments_lexer": "ipython3",
   "version": "3.11.0"
  }
 },
 "nbformat": 4,
 "nbformat_minor": 5
}
