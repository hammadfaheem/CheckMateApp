{
 "cells": [
  {
   "cell_type": "code",
   "execution_count": null,
   "id": "e234cb3b-4061-4d79-8ad6-719d91ca25bb",
   "metadata": {},
   "outputs": [],
   "source": [
    "{\n",
    "    \"message\": \"Assignment submitted successfully\",\n",
    "    \"submission\": [\n",
    "        {\n",
    "            \"student\": \"67ad8ae49ea444506538f4fe\",\n",
    "            \"fileUrl\": \"https://res.cloudinary.com/dvfqp0z6x/image/upload/v1739442875/assignments/1739442872914-Farrukh_Bhai_cv.pdf\",\n",
    "            \"submittedAt\": \"2025-02-13T10:34:36.755Z\",\n",
    "            \"isLate\": false,\n",
    "            \"_id\": \"67adcabc4e75ffcec370ae95\"\n",
    "        }\n",
    "    ]\n",
    "}"
   ]
  }
 ],
 "metadata": {
  "kernelspec": {
   "display_name": "Python 3 (ipykernel)",
   "language": "python",
   "name": "python3"
  },
  "language_info": {
   "codemirror_mode": {
    "name": "ipython",
    "version": 3
   },
   "file_extension": ".py",
   "mimetype": "text/x-python",
   "name": "python",
   "nbconvert_exporter": "python",
   "pygments_lexer": "ipython3",
   "version": "3.12.4"
  }
 },
 "nbformat": 4,
 "nbformat_minor": 5
}
